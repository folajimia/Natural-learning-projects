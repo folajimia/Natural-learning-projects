{
 "cells": [
  {
   "cell_type": "code",
   "execution_count": 90,
   "metadata": {
    "collapsed": true
   },
   "outputs": [],
   "source": [
    "### representing a CSV as a list of rows\n",
    "#option 1 : each row is a list\n",
    "csv = [['A1','A2','A3'],\n",
    "       ['B1','B2','B3']]\n",
    "#option 2 : each row is a dictionary\n",
    "csv2 = [{'name1':'A1','name2':'A2','name3':'A3'},\n",
    "        {'name1':'B1','name2':'B2','name3':'B3'}]"
   ]
  },
  {
   "cell_type": "code",
   "execution_count": 91,
   "metadata": {},
   "outputs": [
    {
     "name": "stdout",
     "output_type": "stream",
     "text": [
      "[['A1', 'A2', 'A3'], ['B1', 'B2', 'B3']]\n",
      "[{'name1': 'A1', 'name2': 'A2', 'name3': 'A3'}, {'name1': 'B1', 'name2': 'B2', 'name3': 'B3'}]\n"
     ]
    }
   ],
   "source": [
    "print (csv)\n",
    "print (csv2)"
   ]
  },
  {
   "cell_type": "code",
   "execution_count": 92,
   "metadata": {},
   "outputs": [
    {
     "name": "stdout",
     "output_type": "stream",
     "text": [
      "OrderedDict([('account_key', '584'), ('status', 'current'), ('join_date', '2015-03-10'), ('cancel_date', ''), ('days_to_cancel', ''), ('is_udacity', 'False'), ('is_canceled', 'False')])\n",
      "================================================\n",
      "OrderedDict([('acct', '0'), ('utc_date', '2015-01-09'), ('num_courses_visited', '1.0'), ('total_minutes_visited', '11.6793745'), ('lessons_completed', '0.0'), ('projects_completed', '0.0')])\n",
      "================================================\n",
      "OrderedDict([('creation_date', '2015-01-14'), ('completion_date', '2015-01-16'), ('assigned_rating', 'UNGRADED'), ('account_key', '256'), ('lesson_key', '3176718735'), ('processing_state', 'EVALUATED')])\n"
     ]
    }
   ],
   "source": [
    "import unicodecsv\n",
    "\n",
    "def reader(filename):\n",
    "    with open(filename, 'rb') as f:\n",
    "        reader = unicodecsv.DictReader(f)\n",
    "        return list(reader)\n",
    "    \n",
    "enrollments = reader ('enrollments.csv')\n",
    "daily_engagement = reader ('daily_engagement.csv')\n",
    "project_submissions = reader ('project_submissions.csv')\n",
    "\n",
    "print (enrollments[25])\n",
    "print('================================================')\n",
    "print (daily_engagement[0])\n",
    "print('================================================')\n",
    "print (project_submissions[0])\n",
    "\n",
    "\n",
    "    \n",
    "    \n",
    "    \n",
    "\n"
   ]
  },
  {
   "cell_type": "code",
   "execution_count": 93,
   "metadata": {
    "collapsed": true
   },
   "outputs": [],
   "source": [
    "#Fixing Data Types"
   ]
  },
  {
   "cell_type": "code",
   "execution_count": 94,
   "metadata": {
    "collapsed": true
   },
   "outputs": [],
   "source": [
    "from datetime import datetime as dt\n",
    "\n",
    "\n",
    "#Takes date as string and returns Python date time object\n",
    "#if no date is given, returns none\n",
    "def parse_date(date):\n",
    "    if date == '':\n",
    "        return None\n",
    "    else:\n",
    "        return dt.strptime(date,'%Y-%m-%d')\n",
    "    \n",
    "    \n",
    "def parse_maybe_int(i):\n",
    "# Takes a string which is either an empty string or represents an integer,\n",
    "# and returns an int or None.\n",
    "    if i == '':\n",
    "        return None\n",
    "    else:\n",
    "        return int(i)\n",
    "    \n",
    "def get_unique_students(data):\n",
    "    unique_students=set()\n",
    "    for data_point in data:\n",
    "        unique_students.add(data_point['account_key'])\n",
    "        \n",
    "    return unique_students\n",
    "    \n",
    "\n",
    "\n"
   ]
  },
  {
   "cell_type": "code",
   "execution_count": 95,
   "metadata": {
    "collapsed": true
   },
   "outputs": [],
   "source": [
    "#Fixing dat types"
   ]
  },
  {
   "cell_type": "code",
   "execution_count": 96,
   "metadata": {},
   "outputs": [
    {
     "name": "stdout",
     "output_type": "stream",
     "text": [
      "OrderedDict([('account_key', '448'), ('status', 'canceled'), ('join_date', datetime.datetime(2014, 11, 10, 0, 0)), ('cancel_date', datetime.datetime(2015, 1, 14, 0, 0)), ('days_to_cancel', 65), ('is_udacity', True), ('is_canceled', True)])\n"
     ]
    }
   ],
   "source": [
    "for enrollment in enrollments:\n",
    "    enrollment['cancel_date'] = parse_date(enrollment['cancel_date'])\n",
    "    enrollment['days_to_cancel'] = parse_maybe_int(enrollment['days_to_cancel'])\n",
    "    enrollment['is_canceled'] = enrollment['is_canceled'] == 'True'\n",
    "    enrollment['is_udacity'] = enrollment['is_udacity'] == 'True'\n",
    "    enrollment['join_date'] = parse_date(enrollment['join_date'])\n",
    "    \n",
    "    \n",
    "    \n",
    "print (enrollments[0])\n",
    "\n",
    "\n"
   ]
  },
  {
   "cell_type": "code",
   "execution_count": 97,
   "metadata": {},
   "outputs": [
    {
     "name": "stdout",
     "output_type": "stream",
     "text": [
      "OrderedDict([('acct', '0'), ('utc_date', datetime.datetime(2015, 1, 9, 0, 0)), ('num_courses_visited', 1), ('total_minutes_visited', 11.6793745), ('lessons_completed', 0), ('projects_completed', 0)])\n"
     ]
    }
   ],
   "source": [
    "for engagement in daily_engagement:\n",
    "    engagement['utc_date'] = parse_date(engagement['utc_date'])\n",
    "    engagement['num_courses_visited'] = int(float(engagement['num_courses_visited']))\n",
    "    engagement['lessons_completed'] = int(float(engagement['lessons_completed']))\n",
    "    engagement['projects_completed'] = int(float(engagement['projects_completed']))\n",
    "    engagement['total_minutes_visited'] = float(engagement['total_minutes_visited'])\n",
    "    #engagement['account_key'] = engagement.pop('acct')\n",
    "    \n",
    "print (daily_engagement[0])\n",
    "    \n",
    "    \n",
    "    \n",
    "    "
   ]
  },
  {
   "cell_type": "code",
   "execution_count": 98,
   "metadata": {},
   "outputs": [
    {
     "name": "stdout",
     "output_type": "stream",
     "text": [
      "OrderedDict([('creation_date', datetime.datetime(2015, 1, 14, 0, 0)), ('completion_date', datetime.datetime(2015, 1, 16, 0, 0)), ('assigned_rating', 'UNGRADED'), ('account_key', '256'), ('lesson_key', '3176718735'), ('processing_state', 'EVALUATED')])\n"
     ]
    }
   ],
   "source": [
    "for project in project_submissions:\n",
    "\n",
    "    project['creation_date'] = parse_date(project['creation_date'])\n",
    "    project['completion_date'] = parse_date(project['completion_date'])\n",
    "    #project['account_key'] = parse_maybe_int(project['account_key'])\n",
    "    #project['lesson_key'] = parse_maybe_int(project['lesson_key'])\n",
    "    \n",
    "\n",
    "print (project_submissions[0])"
   ]
  },
  {
   "cell_type": "raw",
   "metadata": {},
   "source": []
  },
  {
   "cell_type": "code",
   "execution_count": 99,
   "metadata": {
    "collapsed": true
   },
   "outputs": [],
   "source": [
    "# correct acct to account_key in engagement"
   ]
  },
  {
   "cell_type": "code",
   "execution_count": 100,
   "metadata": {
    "collapsed": true
   },
   "outputs": [],
   "source": [
    "for engagement in daily_engagement:\n",
    "    engagement['account_key'] = engagement['acct']\n",
    "    del(engagement['acct'])\n",
    "    "
   ]
  },
  {
   "cell_type": "code",
   "execution_count": 101,
   "metadata": {},
   "outputs": [
    {
     "data": {
      "text/plain": [
       "1640"
      ]
     },
     "execution_count": 101,
     "metadata": {},
     "output_type": "execute_result"
    }
   ],
   "source": [
    "len(enrollments)"
   ]
  },
  {
   "cell_type": "code",
   "execution_count": 102,
   "metadata": {},
   "outputs": [
    {
     "name": "stdout",
     "output_type": "stream",
     "text": [
      "the number of unique students:1302\n"
     ]
    }
   ],
   "source": [
    "\n",
    "## Find the total number of rows and the number of unique students (account keys)\n",
    "## in each table.\n",
    "\n",
    "no_of_unique_enrollments = get_unique_students(enrollments)\n",
    "print(\"the number of unique students:\" + str(len(no_of_unique_enrollments)))\n",
    "\n",
    "    \n",
    "    \n",
    "\n"
   ]
  },
  {
   "cell_type": "code",
   "execution_count": 103,
   "metadata": {},
   "outputs": [
    {
     "data": {
      "text/plain": [
       "136240"
      ]
     },
     "execution_count": 103,
     "metadata": {},
     "output_type": "execute_result"
    }
   ],
   "source": [
    "len(daily_engagement)"
   ]
  },
  {
   "cell_type": "code",
   "execution_count": 104,
   "metadata": {},
   "outputs": [
    {
     "name": "stdout",
     "output_type": "stream",
     "text": [
      "the number of unique students:1237\n"
     ]
    }
   ],
   "source": [
    "\n",
    "\n",
    "unique_engagement_students = get_unique_students(daily_engagement)\n",
    "print(\"the number of unique students:\" + str(len(unique_engagement_students)))\n"
   ]
  },
  {
   "cell_type": "code",
   "execution_count": 105,
   "metadata": {},
   "outputs": [
    {
     "data": {
      "text/plain": [
       "3642"
      ]
     },
     "execution_count": 105,
     "metadata": {},
     "output_type": "execute_result"
    }
   ],
   "source": [
    "\n",
    "len(project_submissions)\n",
    "\n"
   ]
  },
  {
   "cell_type": "code",
   "execution_count": 106,
   "metadata": {},
   "outputs": [
    {
     "name": "stdout",
     "output_type": "stream",
     "text": [
      "the number of unique students:743\n"
     ]
    }
   ],
   "source": [
    "unique_project_submitters = get_unique_students(project_submissions)\n",
    "print(\"the number of unique students:\" + str(len(unique_project_submitters)))"
   ]
  },
  {
   "cell_type": "code",
   "execution_count": null,
   "metadata": {
    "collapsed": true
   },
   "outputs": [],
   "source": []
  },
  {
   "cell_type": "code",
   "execution_count": 107,
   "metadata": {},
   "outputs": [
    {
     "name": "stdout",
     "output_type": "stream",
     "text": [
      "OrderedDict([('account_key', '1304'), ('status', 'canceled'), ('join_date', datetime.datetime(2015, 1, 10, 0, 0)), ('cancel_date', datetime.datetime(2015, 3, 10, 0, 0)), ('days_to_cancel', 59), ('is_udacity', True), ('is_canceled', True)])\n",
      "OrderedDict([('account_key', '1304'), ('status', 'canceled'), ('join_date', datetime.datetime(2015, 3, 10, 0, 0)), ('cancel_date', datetime.datetime(2015, 6, 17, 0, 0)), ('days_to_cancel', 99), ('is_udacity', True), ('is_canceled', True)])\n",
      "OrderedDict([('account_key', '1101'), ('status', 'current'), ('join_date', datetime.datetime(2015, 2, 25, 0, 0)), ('cancel_date', None), ('days_to_cancel', None), ('is_udacity', True), ('is_canceled', False)])\n",
      "3\n"
     ]
    }
   ],
   "source": [
    "\n",
    "num_problem_students = 0\n",
    "\n",
    "for enrollment in enrollments:\n",
    "    student = enrollment['account_key']\n",
    "    if student not in unique_engagement_students \\\n",
    "            and enrollment['join_date'] != enrollment['cancel_date']:\n",
    "        num_problem_students += 1\n",
    "        print(enrollment)\n",
    "        \n",
    "        \n",
    "print(num_problem_students)\n",
    "        #if enrollment['status'] != 'canceled':\n",
    "            #print(enrollment)\n",
    "    \n",
    "    \n",
    "    "
   ]
  },
  {
   "cell_type": "code",
   "execution_count": 108,
   "metadata": {
    "collapsed": true
   },
   "outputs": [],
   "source": [
    "#Creating a set with all udacity test accounts"
   ]
  },
  {
   "cell_type": "code",
   "execution_count": 109,
   "metadata": {},
   "outputs": [
    {
     "data": {
      "text/plain": [
       "6"
      ]
     },
     "execution_count": 109,
     "metadata": {},
     "output_type": "execute_result"
    }
   ],
   "source": [
    "udacity_test_accounts = set()\n",
    "for enrollment in enrollments:\n",
    "    if enrollment['is_udacity']:\n",
    "        udacity_test_accounts.add(enrollment['account_key'])\n",
    "len(udacity_test_accounts)\n"
   ]
  },
  {
   "cell_type": "code",
   "execution_count": 110,
   "metadata": {},
   "outputs": [
    {
     "name": "stdout",
     "output_type": "stream",
     "text": [
      "OrderedDict([('utc_date', datetime.datetime(2015, 6, 30, 0, 0)), ('num_courses_visited', 0), ('total_minutes_visited', 0.0), ('lessons_completed', 0), ('projects_completed', 0), ('account_key', '2')])\n"
     ]
    }
   ],
   "source": [
    "#Remove udacity test accounts\n",
    "len(daily_engagement)\n",
    "print(daily_engagement[365])"
   ]
  },
  {
   "cell_type": "code",
   "execution_count": 111,
   "metadata": {
    "collapsed": true
   },
   "outputs": [],
   "source": [
    "def remove_udacity_accounts(data):\n",
    "    non_udacity_data = []\n",
    "    for data_point in data:\n",
    "        if data_point['account_key'] not in udacity_test_accounts:\n",
    "            non_udacity_data.append(data_point)\n",
    "    return non_udacity_data\n",
    "            \n",
    "        "
   ]
  },
  {
   "cell_type": "code",
   "execution_count": 112,
   "metadata": {},
   "outputs": [
    {
     "name": "stdout",
     "output_type": "stream",
     "text": [
      "the udacity real enrollment accounts:1622\n",
      "the udacity real engagement accounts:135656\n",
      "the udacity real submission accounts:3634\n"
     ]
    }
   ],
   "source": [
    "non_udacity_enrollments = remove_udacity_accounts(enrollments)\n",
    "non_udacity_engagement = remove_udacity_accounts(daily_engagement)\n",
    "non_udacity_submissions = remove_udacity_accounts(project_submissions)\n",
    "\n",
    "print(\"the udacity real enrollment accounts:\" + str(len(non_udacity_enrollments)))\n",
    "print(\"the udacity real engagement accounts:\" + str(len(non_udacity_engagement)))\n",
    "print(\"the udacity real submission accounts:\" + str(len(non_udacity_submissions)))\n",
    "#len(non_udacity_enrollments)\n",
    "#len(non_udacity_engagement)\n",
    "#len(non_udacity_submissions)"
   ]
  },
  {
   "cell_type": "code",
   "execution_count": 113,
   "metadata": {
    "collapsed": true
   },
   "outputs": [],
   "source": [
    "#How do numbers in the engagement table differ for students who pass the first project"
   ]
  },
  {
   "cell_type": "code",
   "execution_count": 114,
   "metadata": {},
   "outputs": [
    {
     "data": {
      "text/plain": [
       "995"
      ]
     },
     "execution_count": 114,
     "metadata": {},
     "output_type": "execute_result"
    }
   ],
   "source": [
    "paid_students = {}\n",
    "#account_keys=[]\n",
    "#enrollment_date=[]\n",
    "unique_keys =set()\n",
    "for enrollmentu in non_udacity_enrollments:\n",
    "    if enrollmentu['days_to_cancel'] == None or enrollmentu['days_to_cancel'] > 7:\n",
    "        account_keys = enrollmentu['account_key']\n",
    "        #unique_keys.add(enrollmentu['account_key'])\n",
    "        enrollment_date = (enrollmentu['join_date'])\n",
    "        if account_keys not in paid_students or enrollment_date > paid_students[account_keys]:\n",
    "            paid_students[account_keys]=enrollment_date\n",
    "len(paid_students)\n",
    "\n"
   ]
  },
  {
   "cell_type": "code",
   "execution_count": 115,
   "metadata": {
    "collapsed": true
   },
   "outputs": [],
   "source": [
    "# Takes a student's join date and the date of a specific engagement record,\n",
    "# and returns True if that engagement record happened within one week\n",
    "# of the student joining.\n",
    "def within_one_week(join_date, engagement_date):\n",
    "    time_delta = engagement_date - join_date\n",
    "    return time_delta.days < 7 and time_delta.days >= 0"
   ]
  },
  {
   "cell_type": "code",
   "execution_count": 116,
   "metadata": {
    "collapsed": true
   },
   "outputs": [],
   "source": [
    "# Create a list of rows from the engagement table including only rows where\n",
    "## the student is one of the paid students you just found, and the date is within\n",
    "## one week of the student's join date.\n",
    "\n",
    "\n",
    "def remove_free_trials_cancel(data_list):\n",
    "    new_data_list = []\n",
    "    for data in data_list:\n",
    "        if data['account_key'] in paid_students:\n",
    "            # and within_one_week(paid_students[student],non_udacity_engagement['utc_date']):\n",
    "            new_data_list.append(data)\n",
    "    return new_data_list\n",
    "\n",
    "\n",
    "\n",
    "\n"
   ]
  },
  {
   "cell_type": "code",
   "execution_count": 117,
   "metadata": {},
   "outputs": [
    {
     "name": "stdout",
     "output_type": "stream",
     "text": [
      "1293\n",
      "134549\n",
      "3618\n"
     ]
    }
   ],
   "source": [
    "paid_enrollment = remove_free_trials_cancel(non_udacity_enrollments)\n",
    "paid_engagement = remove_free_trials_cancel(non_udacity_engagement)\n",
    "paid_submission = remove_free_trials_cancel(non_udacity_submissions)\n",
    "\n",
    "print(len(paid_enrollment))\n",
    "print(len(paid_engagement))\n",
    "print(len(paid_submission))"
   ]
  },
  {
   "cell_type": "code",
   "execution_count": 118,
   "metadata": {
    "collapsed": true
   },
   "outputs": [],
   "source": [
    "for engagement in paid_engagement:\n",
    "    if engagement['num_courses_visited'] > 0:\n",
    "        engagement['has_visited'] = 1\n",
    "    else:\n",
    "        engagement['has_visited'] = 0"
   ]
  },
  {
   "cell_type": "code",
   "execution_count": 119,
   "metadata": {},
   "outputs": [
    {
     "data": {
      "text/plain": [
       "6919"
      ]
     },
     "execution_count": 119,
     "metadata": {},
     "output_type": "execute_result"
    }
   ],
   "source": [
    "paid_engagement_in_first_week = []\n",
    "for engagement_record in paid_engagement:\n",
    "    account_key = engagement_record['account_key']\n",
    "    if within_one_week(paid_students[account_key],engagement_record['utc_date']):\n",
    "        paid_engagement_in_first_week.append(engagement_record)\n",
    "len(paid_engagement_in_first_week)\n",
    "    "
   ]
  },
  {
   "cell_type": "code",
   "execution_count": 120,
   "metadata": {
    "collapsed": true
   },
   "outputs": [],
   "source": [
    "#Exploring student engagement\n",
    "from pprint import pprint\n",
    "\n",
    "from collections import defaultdict\n",
    "# Create a dictionary of engagement grouped by student.\n",
    "# The keys are account keys, and the values are lists of engagement records.\n",
    "engagement_by_account = defaultdict(list)\n",
    "for engagement_record in paid_engagement_in_first_week:\n",
    "    account_key = engagement_record['account_key']\n",
    "    engagement_by_account[account_key].append(engagement_record)\n",
    "    \n",
    "#pprint(engagement_by_account['108'])"
   ]
  },
  {
   "cell_type": "code",
   "execution_count": 121,
   "metadata": {
    "collapsed": true
   },
   "outputs": [],
   "source": [
    "from pprint import pprint\n",
    "# Create a dictionary with the total minutes each student spent in the classroom during the first week.\n",
    "# The keys are account keys, and the values are numbers (total minutes)\n",
    "\n",
    "\n",
    "total_mins_by_account={}\n",
    "for account_key, engagement_each_student in engagement_by_account.items():\n",
    "    total_mins = 0\n",
    "    for engagement in engagement_each_student:\n",
    "        total_mins+=engagement['total_minutes_visited']\n",
    "    total_mins_by_account[account_key] = total_mins\n",
    "    \n",
    "#print(total_mins_by_account)    \n",
    "#for key,values in total_mins_by_account.items():\n",
    "#    if values > 1000:\n",
    "#          print(key,values)\n",
    "        \n",
    "#108 10568.100867332541"
   ]
  },
  {
   "cell_type": "code",
   "execution_count": 122,
   "metadata": {},
   "outputs": [
    {
     "name": "stdout",
     "output_type": "stream",
     "text": [
      "Mean: 306.708326753\n",
      "Standard deviation: 412.996933409\n",
      "Minimum: 0.0\n",
      "Maximum: 3564.7332645\n"
     ]
    }
   ],
   "source": [
    "import numpy as np\n",
    "\n",
    "# Summarize the data about minutes spent in the classroom\n",
    "total_mins = list(total_mins_by_account.values())\n",
    "print ('Mean:', np.mean(total_mins))\n",
    "print ('Standard deviation:', np.std(total_mins))\n",
    "print ('Minimum:', np.min(total_mins))\n",
    "print ('Maximum:', np.max(total_mins))"
   ]
  },
  {
   "cell_type": "code",
   "execution_count": 123,
   "metadata": {
    "collapsed": true
   },
   "outputs": [],
   "source": [
    "def total_by_account(key_name):\n",
    "    total_by_account={}\n",
    "    for account_key, engagement_each_student in engagement_by_account.items():\n",
    "        total = 0\n",
    "        for engagement in engagement_each_student:\n",
    "            total+=engagement[key_name]\n",
    "            total_by_account[account_key] = total\n",
    "#statistics(total_by_account)\n",
    "    return total_by_account"
   ]
  },
  {
   "cell_type": "code",
   "execution_count": 124,
   "metadata": {
    "collapsed": true
   },
   "outputs": [],
   "source": [
    "def statistics(data):\n",
    "    total = list(data.values())\n",
    "    print ('Mean:', np.mean(total))\n",
    "    print ('Standard deviation:', np.std(total))\n",
    "    print ('Minimum:', np.min(total))\n",
    "    print ('Maximum:', np.max(total))\n",
    "    "
   ]
  },
  {
   "cell_type": "code",
   "execution_count": 125,
   "metadata": {
    "collapsed": true
   },
   "outputs": [],
   "source": [
    "#from pprint import pprint\n",
    "#from collections import defaultdict\n",
    "#Exploring student engagement\n",
    "#def group_data(paid_engagement_in_first_week):\n",
    "    # Create a dictionary of engagement grouped by student.\n",
    "    # The keys are account keys, and the values are lists of engagement records.\n",
    "#    engagement_by_account = defaultdict(list)\n",
    "#    for engagement_record in paid_engagement_in_first_week:\n",
    "#        account_key = engagement_record['account_key']\n",
    "#        engagement_by_account[account_key].append(engagement_record)"
   ]
  },
  {
   "cell_type": "code",
   "execution_count": 126,
   "metadata": {
    "collapsed": true
   },
   "outputs": [],
   "source": [
    "#lessons completed in first week"
   ]
  },
  {
   "cell_type": "code",
   "execution_count": 127,
   "metadata": {},
   "outputs": [
    {
     "name": "stdout",
     "output_type": "stream",
     "text": [
      "Mean: 1.63618090452\n",
      "Standard deviation: 3.00256129983\n",
      "Minimum: 0\n",
      "Maximum: 36\n"
     ]
    }
   ],
   "source": [
    "lessons_completed_per_student = total_by_account('lessons_completed')\n",
    "#pprint(lessons_completed_per_student)\n",
    "(statistics(lessons_completed_per_student))"
   ]
  },
  {
   "cell_type": "code",
   "execution_count": 128,
   "metadata": {
    "collapsed": true
   },
   "outputs": [],
   "source": [
    "#Minuites completed by student in first week"
   ]
  },
  {
   "cell_type": "code",
   "execution_count": 129,
   "metadata": {},
   "outputs": [
    {
     "name": "stdout",
     "output_type": "stream",
     "text": [
      "Mean: 306.708326753\n",
      "Standard deviation: 412.996933409\n",
      "Minimum: 0.0\n",
      "Maximum: 3564.7332645\n"
     ]
    }
   ],
   "source": [
    "mins_completed_per_student = total_by_account('total_minutes_visited')\n",
    "(statistics(mins_completed_per_student))"
   ]
  },
  {
   "cell_type": "code",
   "execution_count": 130,
   "metadata": {
    "collapsed": true
   },
   "outputs": [],
   "source": [
    "#Projects completed by student in first week"
   ]
  },
  {
   "cell_type": "code",
   "execution_count": 131,
   "metadata": {},
   "outputs": [
    {
     "name": "stdout",
     "output_type": "stream",
     "text": [
      "Mean: 0.00603015075377\n",
      "Standard deviation: 0.0894641732031\n",
      "Minimum: 0\n",
      "Maximum: 2\n"
     ]
    }
   ],
   "source": [
    "mins_completed_per_student = total_by_account('projects_completed')\n",
    "(statistics(mins_completed_per_student))\n"
   ]
  },
  {
   "cell_type": "code",
   "execution_count": 132,
   "metadata": {},
   "outputs": [
    {
     "name": "stdout",
     "output_type": "stream",
     "text": [
      "Mean: 2.86733668342\n",
      "Standard deviation: 2.25519800292\n",
      "Minimum: 0\n",
      "Maximum: 7\n"
     ]
    }
   ],
   "source": [
    "days_visited_by_account = total_by_account('has_visited')\n",
    "(st|atistics(days_visited_by_account))"
   ]
  },
  {
   "cell_type": "code",
   "execution_count": null,
   "metadata": {
    "collapsed": true
   },
   "outputs": [],
   "source": [
    "## Create two lists of engagement data for paid students in the first week.\n",
    "## The first list should contain data for students who eventually pass the\n",
    "## subway project, and the second list should contain data for students\n",
    "## who do not.\n",
    "\n",
    "subway_project_lesson_keys = ['746169184', '3176718735']\n",
    "\n",
    "passing_engagement =\n",
    "non_passing_engagement =\n",
    "\n",
    "for account_key, engagement_each_student in engagement_by_account.items():\n",
    "        for engagement in engagement_each_student:\n",
    "            if engagement['projects_completed'] ==\n",
    "            \n",
    "            \n",
    "            OrderedDict([('acct', '0'), ('utc_date', datetime.datetime(2015, 1, 9, 0, 0)), ('num_courses_visited', 1), \n",
    "                         ('total_minutes_visited', 11.6793745), ('lessons_completed', 0), ('projects_completed', 0)])\n",
    "            \n",
    "            OrderedDict([('creation_date', datetime.datetime(2015, 1, 14, 0, 0)), ('completion_date',\n",
    "                                                        datetime.datetime(2015, 1, 16, 0, 0)), \n",
    "                         ('assigned_rating', 'UNGRADED'), ('account_key', '256'), ('lesson_key', '3176718735'),\n",
    "                         ('processing_state', 'EVALUATED')])"
   ]
  },
  {
   "cell_type": "code",
   "execution_count": 143,
   "metadata": {},
   "outputs": [
    {
     "name": "stdout",
     "output_type": "stream",
     "text": [
      "{'0',\n",
      " '1',\n",
      " '100',\n",
      " '1002',\n",
      " '101',\n",
      " '1013',\n",
      " '102',\n",
      " '103',\n",
      " '1033',\n",
      " '104',\n",
      " '1048',\n",
      " '106',\n",
      " '1073',\n",
      " '108',\n",
      " '109',\n",
      " '1098',\n",
      " '110',\n",
      " '111',\n",
      " '1111',\n",
      " '113',\n",
      " '1139',\n",
      " '114',\n",
      " '115',\n",
      " '116',\n",
      " '117',\n",
      " '1173',\n",
      " '118',\n",
      " '1185',\n",
      " '119',\n",
      " '12',\n",
      " '120',\n",
      " '1206',\n",
      " '121',\n",
      " '1215',\n",
      " '1217',\n",
      " '122',\n",
      " '124',\n",
      " '125',\n",
      " '126',\n",
      " '127',\n",
      " '128',\n",
      " '129',\n",
      " '1292',\n",
      " '13',\n",
      " '130',\n",
      " '131',\n",
      " '132',\n",
      " '133',\n",
      " '134',\n",
      " '135',\n",
      " '136',\n",
      " '137',\n",
      " '138',\n",
      " '139',\n",
      " '14',\n",
      " '144',\n",
      " '147',\n",
      " '148',\n",
      " '15',\n",
      " '151',\n",
      " '152',\n",
      " '153',\n",
      " '154',\n",
      " '155',\n",
      " '156',\n",
      " '158',\n",
      " '16',\n",
      " '162',\n",
      " '163',\n",
      " '164',\n",
      " '166',\n",
      " '168',\n",
      " '169',\n",
      " '170',\n",
      " '171',\n",
      " '172',\n",
      " '174',\n",
      " '175',\n",
      " '176',\n",
      " '177',\n",
      " '181',\n",
      " '182',\n",
      " '183',\n",
      " '184',\n",
      " '186',\n",
      " '188',\n",
      " '190',\n",
      " '191',\n",
      " '192',\n",
      " '193',\n",
      " '196',\n",
      " '198',\n",
      " '199',\n",
      " '20',\n",
      " '200',\n",
      " '202',\n",
      " '203',\n",
      " '205',\n",
      " '206',\n",
      " '208',\n",
      " '21',\n",
      " '211',\n",
      " '213',\n",
      " '214',\n",
      " '215',\n",
      " '216',\n",
      " '218',\n",
      " '219',\n",
      " '22',\n",
      " '220',\n",
      " '222',\n",
      " '224',\n",
      " '226',\n",
      " '227',\n",
      " '228',\n",
      " '23',\n",
      " '231',\n",
      " '233',\n",
      " '235',\n",
      " '236',\n",
      " '237',\n",
      " '238',\n",
      " '239',\n",
      " '24',\n",
      " '241',\n",
      " '242',\n",
      " '245',\n",
      " '249',\n",
      " '25',\n",
      " '250',\n",
      " '251',\n",
      " '252',\n",
      " '254',\n",
      " '255',\n",
      " '256',\n",
      " '257',\n",
      " '259',\n",
      " '260',\n",
      " '262',\n",
      " '263',\n",
      " '266',\n",
      " '268',\n",
      " '269',\n",
      " '27',\n",
      " '270',\n",
      " '271',\n",
      " '272',\n",
      " '273',\n",
      " '274',\n",
      " '275',\n",
      " '276',\n",
      " '277',\n",
      " '278',\n",
      " '279',\n",
      " '28',\n",
      " '280',\n",
      " '281',\n",
      " '282',\n",
      " '284',\n",
      " '285',\n",
      " '287',\n",
      " '289',\n",
      " '29',\n",
      " '290',\n",
      " '291',\n",
      " '292',\n",
      " '295',\n",
      " '296',\n",
      " '297',\n",
      " '298',\n",
      " '299',\n",
      " '300',\n",
      " '301',\n",
      " '303',\n",
      " '304',\n",
      " '305',\n",
      " '306',\n",
      " '308',\n",
      " '31',\n",
      " '313',\n",
      " '314',\n",
      " '315',\n",
      " '316',\n",
      " '317',\n",
      " '318',\n",
      " '319',\n",
      " '32',\n",
      " '320',\n",
      " '321',\n",
      " '324',\n",
      " '327',\n",
      " '329',\n",
      " '33',\n",
      " '330',\n",
      " '331',\n",
      " '332',\n",
      " '333',\n",
      " '336',\n",
      " '337',\n",
      " '338',\n",
      " '340',\n",
      " '341',\n",
      " '343',\n",
      " '345',\n",
      " '346',\n",
      " '347',\n",
      " '348',\n",
      " '349',\n",
      " '35',\n",
      " '350',\n",
      " '351',\n",
      " '356',\n",
      " '357',\n",
      " '358',\n",
      " '359',\n",
      " '36',\n",
      " '360',\n",
      " '361',\n",
      " '363',\n",
      " '365',\n",
      " '366',\n",
      " '367',\n",
      " '37',\n",
      " '372',\n",
      " '373',\n",
      " '374',\n",
      " '375',\n",
      " '376',\n",
      " '379',\n",
      " '38',\n",
      " '380',\n",
      " '381',\n",
      " '382',\n",
      " '383',\n",
      " '384',\n",
      " '385',\n",
      " '386',\n",
      " '389',\n",
      " '39',\n",
      " '391',\n",
      " '392',\n",
      " '395',\n",
      " '396',\n",
      " '397',\n",
      " '398',\n",
      " '399',\n",
      " '4',\n",
      " '40',\n",
      " '400',\n",
      " '402',\n",
      " '403',\n",
      " '404',\n",
      " '405',\n",
      " '406',\n",
      " '407',\n",
      " '409',\n",
      " '41',\n",
      " '410',\n",
      " '412',\n",
      " '413',\n",
      " '415',\n",
      " '416',\n",
      " '418',\n",
      " '420',\n",
      " '421',\n",
      " '422',\n",
      " '423',\n",
      " '424',\n",
      " '425',\n",
      " '426',\n",
      " '427',\n",
      " '428',\n",
      " '429',\n",
      " '430',\n",
      " '431',\n",
      " '432',\n",
      " '433',\n",
      " '434',\n",
      " '436',\n",
      " '437',\n",
      " '438',\n",
      " '44',\n",
      " '442',\n",
      " '443',\n",
      " '444',\n",
      " '445',\n",
      " '446',\n",
      " '449',\n",
      " '45',\n",
      " '451',\n",
      " '452',\n",
      " '454',\n",
      " '455',\n",
      " '456',\n",
      " '457',\n",
      " '458',\n",
      " '459',\n",
      " '46',\n",
      " '460',\n",
      " '461',\n",
      " '462',\n",
      " '464',\n",
      " '465',\n",
      " '466',\n",
      " '467',\n",
      " '468',\n",
      " '469',\n",
      " '471',\n",
      " '472',\n",
      " '473',\n",
      " '475',\n",
      " '476',\n",
      " '477',\n",
      " '479',\n",
      " '48',\n",
      " '481',\n",
      " '482',\n",
      " '484',\n",
      " '485',\n",
      " '487',\n",
      " '488',\n",
      " '489',\n",
      " '490',\n",
      " '491',\n",
      " '492',\n",
      " '494',\n",
      " '496',\n",
      " '497',\n",
      " '498',\n",
      " '5',\n",
      " '50',\n",
      " '501',\n",
      " '502',\n",
      " '503',\n",
      " '505',\n",
      " '507',\n",
      " '508',\n",
      " '509',\n",
      " '510',\n",
      " '511',\n",
      " '512',\n",
      " '513',\n",
      " '514',\n",
      " '515',\n",
      " '516',\n",
      " '517',\n",
      " '518',\n",
      " '519',\n",
      " '520',\n",
      " '521',\n",
      " '522',\n",
      " '523',\n",
      " '524',\n",
      " '526',\n",
      " '527',\n",
      " '53',\n",
      " '530',\n",
      " '531',\n",
      " '532',\n",
      " '533',\n",
      " '536',\n",
      " '538',\n",
      " '539',\n",
      " '540',\n",
      " '541',\n",
      " '542',\n",
      " '543',\n",
      " '544',\n",
      " '545',\n",
      " '546',\n",
      " '548',\n",
      " '55',\n",
      " '552',\n",
      " '554',\n",
      " '555',\n",
      " '556',\n",
      " '557',\n",
      " '559',\n",
      " '56',\n",
      " '560',\n",
      " '563',\n",
      " '564',\n",
      " '565',\n",
      " '566',\n",
      " '567',\n",
      " '568',\n",
      " '569',\n",
      " '57',\n",
      " '570',\n",
      " '572',\n",
      " '577',\n",
      " '578',\n",
      " '58',\n",
      " '580',\n",
      " '581',\n",
      " '582',\n",
      " '584',\n",
      " '587',\n",
      " '588',\n",
      " '591',\n",
      " '592',\n",
      " '593',\n",
      " '594',\n",
      " '596',\n",
      " '598',\n",
      " '599',\n",
      " '6',\n",
      " '600',\n",
      " '603',\n",
      " '605',\n",
      " '606',\n",
      " '607',\n",
      " '608',\n",
      " '61',\n",
      " '612',\n",
      " '613',\n",
      " '614',\n",
      " '615',\n",
      " '616',\n",
      " '619',\n",
      " '62',\n",
      " '620',\n",
      " '621',\n",
      " '622',\n",
      " '624',\n",
      " '625',\n",
      " '627',\n",
      " '628',\n",
      " '629',\n",
      " '63',\n",
      " '630',\n",
      " '631',\n",
      " '632',\n",
      " '633',\n",
      " '634',\n",
      " '637',\n",
      " '640',\n",
      " '641',\n",
      " '643',\n",
      " '646',\n",
      " '648',\n",
      " '650',\n",
      " '651',\n",
      " '652',\n",
      " '66',\n",
      " '670',\n",
      " '69',\n",
      " '7',\n",
      " '706',\n",
      " '71',\n",
      " '712',\n",
      " '715',\n",
      " '722',\n",
      " '73',\n",
      " '732',\n",
      " '736',\n",
      " '74',\n",
      " '75',\n",
      " '755',\n",
      " '77',\n",
      " '771',\n",
      " '777',\n",
      " '78',\n",
      " '79',\n",
      " '791',\n",
      " '792',\n",
      " '8',\n",
      " '80',\n",
      " '812',\n",
      " '82',\n",
      " '83',\n",
      " '84',\n",
      " '843',\n",
      " '852',\n",
      " '86',\n",
      " '87',\n",
      " '89',\n",
      " '90',\n",
      " '906',\n",
      " '919',\n",
      " '92',\n",
      " '93',\n",
      " '938',\n",
      " '94',\n",
      " '96',\n",
      " '965',\n",
      " '97',\n",
      " '98',\n",
      " '99'}\n"
     ]
    }
   ],
   "source": [
    "subway_project_lesson_keys = ['746169184', '3176718735']\n",
    "\n",
    "passing_engagement = []\n",
    "non_passing_engagement = []\n",
    "subway_submissions_passed=set()\n",
    "subway_submissions_othered=set()\n",
    "\n",
    "\n",
    "#for account_key, engagement_each_student in engagement_by_account.items():\n",
    " #   pprint(engagement_each_student)\n",
    "for submission in paid_submission:\n",
    "    if submission['lesson_key'] in subway_project_lesson_keys:\n",
    "        if submission['assigned_rating'] == 'PASSED':\n",
    "            subway_submissions_passed.add(submission['account_key'])\n",
    "        else:\n",
    "            subway_submissions_othered.add(submission['account_key'])\n",
    "            \n",
    "            \n",
    "for account_key, engagement_each_student in engagement_by_account.items():\n",
    "    for engagement in engagement_each_student:\n",
    "        if engagement['account_key'] in subway_submissions_passed:\n",
    "            passing_engagement.append(engagement)\n",
    "        if engagement['account_key'] in subway_submissions_othered:\n",
    "            \n",
    "            \n",
    "        \n",
    "pprint(subway_submissions_othered)\n",
    "        \n"
   ]
  },
  {
   "cell_type": "code",
   "execution_count": null,
   "metadata": {},
   "outputs": [],
   "source": [
    "\n",
    "        \n",
    "        \n",
    "paid_submission = remove_free_trials_cancel(non_udacity_submissions)\n",
    "\n",
    "\n"
   ]
  },
  {
   "cell_type": "code",
   "execution_count": null,
   "metadata": {
    "collapsed": true
   },
   "outputs": [],
   "source": [
    "paid_engagement_in_first_week = []\n",
    "for engagement_record in paid_engagement:\n",
    "    account_key = engagement_record['account_key']\n",
    "    if within_one_week(paid_students[account_key],engagement_record['utc_date']):\n",
    "        paid_engagement_in_first_week.append(engagement_record)\n",
    "len(paid_engagement_in_first_week)"
   ]
  },
  {
   "cell_type": "code",
   "execution_count": null,
   "metadata": {
    "collapsed": true
   },
   "outputs": [],
   "source": []
  }
 ],
 "metadata": {
  "kernelspec": {
   "display_name": "Python [conda root]",
   "language": "python",
   "name": "conda-root-py"
  },
  "language_info": {
   "codemirror_mode": {
    "name": "ipython",
    "version": 3
   },
   "file_extension": ".py",
   "mimetype": "text/x-python",
   "name": "python",
   "nbconvert_exporter": "python",
   "pygments_lexer": "ipython3",
   "version": "3.6.0"
  }
 },
 "nbformat": 4,
 "nbformat_minor": 2
}
